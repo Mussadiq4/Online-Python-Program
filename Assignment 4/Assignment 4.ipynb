{
 "cells": [
  {
   "cell_type": "markdown",
   "id": "809e3120",
   "metadata": {},
   "source": [
    "# Task 1"
   ]
  },
  {
   "cell_type": "code",
   "execution_count": 11,
   "id": "428a6364",
   "metadata": {},
   "outputs": [
    {
     "name": "stdout",
     "output_type": "stream",
     "text": [
      "Calling function through hardcoded values\n",
      "\n",
      "16\n",
      "48\n",
      "-8\n",
      "3.0\n",
      "125\n",
      "\n",
      "Calling function through user input values\n",
      "\n",
      "Enter the first number : 6\n",
      "Enter the second number : 2\n",
      "Enter the operator : %\n",
      "Wrong operation / Not supported\n"
     ]
    }
   ],
   "source": [
    "def calculator(num1 , num2 , op):\n",
    "    \n",
    "    if op == '+':\n",
    "        return (num1+num2)\n",
    "    \n",
    "    elif op == '-':\n",
    "        return (num1-num2)\n",
    "    \n",
    "    elif op == '*':\n",
    "        return (num1*num2)\n",
    "    \n",
    "    elif op == '/':\n",
    "        return (num1/num2)\n",
    "    \n",
    "    elif op == '^':\n",
    "        return (num1**num2)\n",
    "    \n",
    "    else:\n",
    "        return(\"Wrong operation / Not supported\")\n",
    "\n",
    "print(\"Calling function through hardcoded values\\n\")\n",
    "\n",
    "print(calculator(4 , 12 , '+'))\n",
    "print(calculator(4 , 12 , '*'))\n",
    "print(calculator(4 , 12 , '-'))\n",
    "print(calculator(12 , 4 , '/'))\n",
    "print(calculator(5 , 3 , '^'))\n",
    "\n",
    "print(\"\\nCalling function through user input values\\n\")\n",
    "\n",
    "n1 = int(input(\"Enter the first number : \"))\n",
    "n2 = int(input(\"Enter the second number : \"))\n",
    "op = input(\"Enter the operator : \")\n",
    "\n",
    "print(calculator(n1 , n2 , op))\n"
   ]
  },
  {
   "cell_type": "markdown",
   "id": "496540cd",
   "metadata": {},
   "source": [
    "# Task 2"
   ]
  },
  {
   "cell_type": "code",
   "execution_count": 39,
   "id": "c90d90da",
   "metadata": {},
   "outputs": [
    {
     "name": "stdout",
     "output_type": "stream",
     "text": [
      "5  found at index  2\n",
      "12  found at index  4\n",
      "3  found at index  5\n"
     ]
    }
   ],
   "source": [
    "num = 1\n",
    "t1 = type(num)\n",
    "\n",
    "li = [\"Hello\" , \"12345\" , 5 , \"8.7\" , 12 , 3 , True , \"0\"]\n",
    "\n",
    "for i in range(len(li)):    \n",
    "    t2 = type(li[i])\n",
    "    \n",
    "    if t1 == t2:\n",
    "        print(li[i] , \" found at index \" , i)\n"
   ]
  },
  {
   "cell_type": "markdown",
   "id": "24dba068",
   "metadata": {},
   "source": [
    "# Task 3"
   ]
  },
  {
   "cell_type": "code",
   "execution_count": 44,
   "id": "c4823f0a",
   "metadata": {},
   "outputs": [
    {
     "name": "stdout",
     "output_type": "stream",
     "text": [
      "{1: 'Hello', 2: 'Python', 3: 'Bye'}\n",
      "Enter a new key to add in dictionary : 10\n",
      "Enter its value : abc\n",
      "{1: 'Hello', 2: 'Python', 3: 'Bye', '10': 'abc'}\n"
     ]
    }
   ],
   "source": [
    "dic = {1: \"Hello\" , 2: \"Python\" , 3: \"Bye\"}\n",
    "\n",
    "print(dic)\n",
    "\n",
    "key = input(\"Enter a new key to add in dictionary : \")\n",
    "value = input(\"Enter its value : \")\n",
    "\n",
    "dic[key] = value\n",
    "\n",
    "print(dic)"
   ]
  },
  {
   "cell_type": "markdown",
   "id": "187c6d83",
   "metadata": {},
   "source": [
    "# Task 4"
   ]
  },
  {
   "cell_type": "code",
   "execution_count": 45,
   "id": "b19baeb0",
   "metadata": {},
   "outputs": [
    {
     "name": "stdout",
     "output_type": "stream",
     "text": [
      "Sum of all numeric items(keys and values) in the dictionary =  90\n"
     ]
    }
   ],
   "source": [
    "dic2 = {\n",
    "    1: \"Hello\" , \n",
    "    2: \"45\" , \n",
    "    \"three\": 15 , \n",
    "    4: 10 , \n",
    "    5: False , \n",
    "    6: \"2\" , \n",
    "    \"seven\": 25 , \n",
    "    8: \"World\" , \n",
    "    9: 5 , \n",
    "    \"ten\": \"end\"\n",
    "}\n",
    "\n",
    "sum = 0\n",
    "\n",
    "# Supposing that Question is asking for the sum of all numeric items(keys + values)\n",
    "\n",
    "for i,j in dic2.items():\n",
    "    \n",
    "    if type(i) == int:\n",
    "        sum += i\n",
    "        \n",
    "    if type(j) == int:\n",
    "        sum += j\n",
    "\n",
    "print(\"Sum of all numeric items(keys and values) in the dictionary = \" , sum)"
   ]
  },
  {
   "cell_type": "markdown",
   "id": "ae3ffc66",
   "metadata": {},
   "source": [
    "# Task 5"
   ]
  },
  {
   "cell_type": "code",
   "execution_count": 53,
   "id": "3a10fb5e",
   "metadata": {},
   "outputs": [
    {
     "name": "stdout",
     "output_type": "stream",
     "text": [
      "Duplicate values : \n",
      "hello\n",
      "5\n",
      "nice\n",
      "data\n"
     ]
    }
   ],
   "source": [
    "list1 = [\"hello\" , 5 , \"nice\" , 20 , \"data\" , \"hello\" , 5 , \"data\"  , \"nice\" , \"world\"]\n",
    "\n",
    "print(\"Duplicate values : \")\n",
    "\n",
    "for i in range(len(list1)):\n",
    "    \n",
    "    for j in range(i+1 , len(list1)):\n",
    "        \n",
    "        if list1[i] == list1[j]:\n",
    "            print(list1[i])\n",
    "            break\n",
    "            "
   ]
  },
  {
   "cell_type": "markdown",
   "id": "a2919fb0",
   "metadata": {},
   "source": [
    "# Task 6"
   ]
  },
  {
   "cell_type": "code",
   "execution_count": 54,
   "id": "7ab501f8",
   "metadata": {},
   "outputs": [
    {
     "name": "stdout",
     "output_type": "stream",
     "text": [
      "Enter any number to check that if it is present in dictionary as a key : 3\n",
      "Key Found\n"
     ]
    }
   ],
   "source": [
    "dictt = {1: \"Hello\" , 2: \"Python\" , 3: \"Bye\" , 4: \"Science\" , 5: \"end\"}\n",
    "\n",
    "key = int(input(\"Enter any number to check that if it is present in dictionary as a key : \"))\n",
    "flag = True\n",
    "\n",
    "for check in dictt.keys():\n",
    "    \n",
    "    if key == check:\n",
    "        flag = False\n",
    "        print(\"Key Found\")\n",
    "        break\n",
    "        \n",
    "if flag:\n",
    "    print(\"Key not found\")\n"
   ]
  },
  {
   "cell_type": "code",
   "execution_count": 55,
   "id": "fc8e48e6",
   "metadata": {},
   "outputs": [
    {
     "name": "stdout",
     "output_type": "stream",
     "text": [
      "Enter any number to check that if it is present in dictionary as a key : 10\n",
      "Key not found\n"
     ]
    }
   ],
   "source": [
    "dictt = {1: \"Hello\" , 2: \"Python\" , 3: \"Bye\" , 4: \"Science\" , 5: \"end\"}\n",
    "\n",
    "key = int(input(\"Enter any number to check that if it is present in dictionary as a key : \"))\n",
    "flag = True\n",
    "\n",
    "for check in dictt.keys():\n",
    "    \n",
    "    if key == check:\n",
    "        flag = False\n",
    "        print(\"Key Found\")\n",
    "        break\n",
    "        \n",
    "if flag:\n",
    "    print(\"Key not found\")\n"
   ]
  },
  {
   "cell_type": "code",
   "execution_count": null,
   "id": "32c5939d",
   "metadata": {},
   "outputs": [],
   "source": []
  }
 ],
 "metadata": {
  "kernelspec": {
   "display_name": "Python 3",
   "language": "python",
   "name": "python3"
  },
  "language_info": {
   "codemirror_mode": {
    "name": "ipython",
    "version": 3
   },
   "file_extension": ".py",
   "mimetype": "text/x-python",
   "name": "python",
   "nbconvert_exporter": "python",
   "pygments_lexer": "ipython3",
   "version": "3.8.8"
  }
 },
 "nbformat": 4,
 "nbformat_minor": 5
}
