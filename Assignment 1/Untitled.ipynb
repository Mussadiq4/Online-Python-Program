{
 "cells": [
  {
   "cell_type": "code",
   "execution_count": 2,
   "id": "e535f516",
   "metadata": {},
   "outputs": [
    {
     "name": "stdout",
     "output_type": "stream",
     "text": [
      "Hello Mussadiq Nazeer\n"
     ]
    }
   ],
   "source": [
    "print(\"Hello Mussadiq Nazeer\");"
   ]
  },
  {
   "cell_type": "code",
   "execution_count": 6,
   "id": "53cdc9be",
   "metadata": {},
   "outputs": [
    {
     "name": "stdout",
     "output_type": "stream",
     "text": [
      "teeag\n",
      "43\n",
      "teeag\n",
      "43\n"
     ]
    }
   ],
   "source": [
    "a = input();\n",
    "b = int(input());\n",
    "print(a);\n",
    "print(b);"
   ]
  },
  {
   "cell_type": "code",
   "execution_count": 9,
   "id": "a8186cf5",
   "metadata": {},
   "outputs": [
    {
     "name": "stdout",
     "output_type": "stream",
     "text": [
      "Enter your name : fw\n",
      "Enter your age : 32\n",
      "fw\n",
      "32\n"
     ]
    }
   ],
   "source": [
    "name = input(\"Enter your name : \");\n",
    "age = int(input(\"Enter your age : \"));\n",
    "print(name);\n",
    "print(age);"
   ]
  },
  {
   "cell_type": "code",
   "execution_count": 18,
   "id": "54bd2941",
   "metadata": {},
   "outputs": [
    {
     "name": "stdout",
     "output_type": "stream",
     "text": [
      "['Mussadiq', 'Nazeer', 15, True]\n"
     ]
    }
   ],
   "source": [
    "a = [\"Mussadiq\",\"Nazeer\",15,True]\n",
    "print(a)"
   ]
  },
  {
   "cell_type": "code",
   "execution_count": 12,
   "id": "fdcf1cab",
   "metadata": {},
   "outputs": [
    {
     "name": "stdout",
     "output_type": "stream",
     "text": [
      "Nazeer\n"
     ]
    },
    {
     "data": {
      "text/plain": [
       "['Mussadiq', 20, 15, True]"
      ]
     },
     "execution_count": 12,
     "metadata": {},
     "output_type": "execute_result"
    }
   ],
   "source": [
    "print(a[1]);\n",
    "a[1] = 20\n",
    "a"
   ]
  },
  {
   "cell_type": "code",
   "execution_count": 13,
   "id": "60dd90ab",
   "metadata": {},
   "outputs": [
    {
     "name": "stdout",
     "output_type": "stream",
     "text": [
      "['Mussadiq', 20, 15, 'Mussadiq']\n"
     ]
    }
   ],
   "source": [
    "a[3] = a[0]\n",
    "print(a)"
   ]
  },
  {
   "cell_type": "code",
   "execution_count": 19,
   "id": "38a17588",
   "metadata": {},
   "outputs": [
    {
     "name": "stdout",
     "output_type": "stream",
     "text": [
      "['Mussadiq', 'Nazeer', 15, True]\n",
      "['Mussadiq', 'Nazeer', 15, True, 'Nazeer']\n",
      "['Mussadiq', 'Nazeer', 15, True, 'Nazeer', 4.5]\n"
     ]
    }
   ],
   "source": [
    "print(a);\n",
    "a.append(\"Nazeer\");\n",
    "print(a);\n",
    "a.append(4.5);\n",
    "print(a);"
   ]
  },
  {
   "cell_type": "code",
   "execution_count": 20,
   "id": "bc29eb1c",
   "metadata": {},
   "outputs": [
    {
     "name": "stdout",
     "output_type": "stream",
     "text": [
      "['Mussadiq', 'Nazeer', 15, True, 'Nazeer', 4.5, 'Hello', 1]\n"
     ]
    }
   ],
   "source": [
    "a = a + [\"Hello\" , 1];\n",
    "print(a);"
   ]
  },
  {
   "cell_type": "code",
   "execution_count": 21,
   "id": "6a401543",
   "metadata": {},
   "outputs": [
    {
     "name": "stdout",
     "output_type": "stream",
     "text": [
      "['Hello', 1, 'Mussadiq', 'Nazeer', 15, True, 'Nazeer', 4.5, 'Hello', 1]\n"
     ]
    }
   ],
   "source": [
    "a = [\"Hello\" , 1] + a;\n",
    "print(a);"
   ]
  },
  {
   "cell_type": "code",
   "execution_count": 22,
   "id": "1d1002ec",
   "metadata": {},
   "outputs": [
    {
     "name": "stdout",
     "output_type": "stream",
     "text": [
      "['Hello', 1, 'Mussadiq', 'Nazeer', 15, True, 'Nazeer', 4.5, 'Hello', 1, 12, 'dhf']\n"
     ]
    }
   ],
   "source": [
    "a += [12 , \"dhf\"]\n",
    "print(a)"
   ]
  },
  {
   "cell_type": "code",
   "execution_count": 29,
   "id": "ee32df6a",
   "metadata": {},
   "outputs": [
    {
     "name": "stdout",
     "output_type": "stream",
     "text": [
      "12\n"
     ]
    }
   ],
   "source": [
    "print(len(a));"
   ]
  },
  {
   "cell_type": "code",
   "execution_count": 30,
   "id": "af5d33db",
   "metadata": {},
   "outputs": [
    {
     "name": "stdout",
     "output_type": "stream",
     "text": [
      "0\n"
     ]
    }
   ],
   "source": [
    "b = [];\n",
    "print(len(b));"
   ]
  },
  {
   "cell_type": "code",
   "execution_count": 31,
   "id": "6d2d8298",
   "metadata": {},
   "outputs": [],
   "source": [
    "b.insert(2 , \"rbfr\");"
   ]
  },
  {
   "cell_type": "code",
   "execution_count": 32,
   "id": "e97c86ba",
   "metadata": {},
   "outputs": [
    {
     "name": "stdout",
     "output_type": "stream",
     "text": [
      "['rbfr']\n"
     ]
    }
   ],
   "source": [
    "print(b);"
   ]
  },
  {
   "cell_type": "code",
   "execution_count": 33,
   "id": "e8eefde7",
   "metadata": {},
   "outputs": [
    {
     "name": "stdout",
     "output_type": "stream",
     "text": [
      "['Hello', 1, 'Mussadiq', 'Nazeer', 'index 4', 15, True, 'Nazeer', 4.5, 'Hello', 1, 12, 'dhf']\n"
     ]
    }
   ],
   "source": [
    "a.insert(4 , \"index 4\");\n",
    "print(a);"
   ]
  },
  {
   "cell_type": "code",
   "execution_count": 34,
   "id": "f29ac26d",
   "metadata": {},
   "outputs": [
    {
     "name": "stdout",
     "output_type": "stream",
     "text": [
      "['Hello', 'World', 'Mussadiq', 'Nazeer', 'index 4', 15, True, 'Nazeer', 4.5, 'Hello', 1, 12, 'dhf']\n"
     ]
    }
   ],
   "source": [
    "a[1] = \"World\";\n",
    "print(a);"
   ]
  },
  {
   "cell_type": "code",
   "execution_count": 35,
   "id": "a93d13e1",
   "metadata": {},
   "outputs": [
    {
     "name": "stdout",
     "output_type": "stream",
     "text": [
      "['Hello', 'World', 'Mussadiq', 'Nazeer', 'index 4', 15, True, 'Nazeer', 4.5, 'Hello', 1, 12, 'dhf']\n",
      "['rbfr', 'index 4', 15, True, 'Nazeer', 4.5]\n"
     ]
    }
   ],
   "source": [
    "b += a[4:9];\n",
    "print(a);\n",
    "print(b);"
   ]
  },
  {
   "cell_type": "code",
   "execution_count": 36,
   "id": "277af294",
   "metadata": {},
   "outputs": [
    {
     "name": "stdout",
     "output_type": "stream",
     "text": [
      "['rbfr', 'index 4', 15, True, 'Nazeer', 4.5]\n",
      "['index 4', 15, True, 'Nazeer', 4.5]\n"
     ]
    }
   ],
   "source": [
    "c = b[1:]\n",
    "print(b)\n",
    "print(c)"
   ]
  },
  {
   "cell_type": "code",
   "execution_count": 37,
   "id": "9cb60e2f",
   "metadata": {},
   "outputs": [
    {
     "name": "stdout",
     "output_type": "stream",
     "text": [
      "['rbfr', 'index 4', 15, True, 'Nazeer', 4.5]\n",
      "['rbfr', 'index 4', 15, True, 'Nazeer']\n"
     ]
    }
   ],
   "source": [
    "c = b[:5]\n",
    "print(b)\n",
    "print(c)"
   ]
  },
  {
   "cell_type": "code",
   "execution_count": 38,
   "id": "8d6b5d74",
   "metadata": {},
   "outputs": [
    {
     "name": "stdout",
     "output_type": "stream",
     "text": [
      "['Hello', 'World', 'Mussadiq', 'Nazeer', 'index 4', 15, True, 'Nazeer', 4.5, 'Hello', 1, 12, 'dhf']\n",
      "['Mussadiq', 'Nazeer', 'index 4', 15, True]\n"
     ]
    }
   ],
   "source": [
    "print(a);\n",
    "a = a[2:7]\n",
    "print(a);"
   ]
  },
  {
   "cell_type": "code",
   "execution_count": 39,
   "id": "bc9b4d34",
   "metadata": {},
   "outputs": [
    {
     "name": "stdout",
     "output_type": "stream",
     "text": [
      "['rbfr', 15, True, 'Nazeer', 4.5]\n"
     ]
    }
   ],
   "source": [
    "del b[1];\n",
    "print(b);"
   ]
  },
  {
   "cell_type": "code",
   "execution_count": 43,
   "id": "9f0eb56f",
   "metadata": {},
   "outputs": [
    {
     "ename": "NameError",
     "evalue": "name 'c' is not defined",
     "output_type": "error",
     "traceback": [
      "\u001b[1;31m---------------------------------------------------------------------------\u001b[0m",
      "\u001b[1;31mNameError\u001b[0m                                 Traceback (most recent call last)",
      "\u001b[1;32m<ipython-input-43-bdcadcaca116>\u001b[0m in \u001b[0;36m<module>\u001b[1;34m\u001b[0m\n\u001b[1;32m----> 1\u001b[1;33m \u001b[0mprint\u001b[0m\u001b[1;33m(\u001b[0m\u001b[0mc\u001b[0m\u001b[1;33m)\u001b[0m\u001b[1;33m;\u001b[0m\u001b[1;33m\u001b[0m\u001b[1;33m\u001b[0m\u001b[0m\n\u001b[0m",
      "\u001b[1;31mNameError\u001b[0m: name 'c' is not defined"
     ]
    }
   ],
   "source": [
    "print(c);"
   ]
  },
  {
   "cell_type": "code",
   "execution_count": 46,
   "id": "1389a7de",
   "metadata": {},
   "outputs": [
    {
     "name": "stdout",
     "output_type": "stream",
     "text": [
      "['Mussadiq', 'Nazeer', 15, True]\n"
     ]
    }
   ],
   "source": [
    "a.append(\"index 4\");\n",
    "a.remove(\"index 4\");\n",
    "print(a);"
   ]
  },
  {
   "cell_type": "code",
   "execution_count": 47,
   "id": "426144d2",
   "metadata": {},
   "outputs": [
    {
     "name": "stdout",
     "output_type": "stream",
     "text": [
      "['Mussadiq', 'Nazeer', 15, True]\n",
      "['rbfr', 15, True, 'Nazeer', 4.5]\n"
     ]
    }
   ],
   "source": [
    "print(a)\n",
    "print(b)"
   ]
  },
  {
   "cell_type": "code",
   "execution_count": 48,
   "id": "b01e6cc5",
   "metadata": {},
   "outputs": [
    {
     "name": "stdout",
     "output_type": "stream",
     "text": [
      "['Mussadiq', 'Nazeer', 4.5, 15, True]\n",
      "['rbfr', 15, True, 'Nazeer']\n"
     ]
    }
   ],
   "source": [
    "a.insert(2 , b.pop());\n",
    "print(a)\n",
    "print(b)"
   ]
  },
  {
   "cell_type": "code",
   "execution_count": 49,
   "id": "cc5c9962",
   "metadata": {},
   "outputs": [
    {
     "name": "stdout",
     "output_type": "stream",
     "text": [
      "['Mussadiq', 'Nazeer', 15, True]\n"
     ]
    }
   ],
   "source": [
    "a.pop(2);\n",
    "print(a);"
   ]
  },
  {
   "cell_type": "code",
   "execution_count": 50,
   "id": "b247aa4d",
   "metadata": {},
   "outputs": [
    {
     "name": "stdout",
     "output_type": "stream",
     "text": [
      "['Mussadiq', 'Nazeer', 15, 'rbfr', True]\n",
      "[15, True, 'Nazeer']\n"
     ]
    }
   ],
   "source": [
    "a.insert(3 , b.pop(0));\n",
    "print(a)\n",
    "print(b)"
   ]
  },
  {
   "cell_type": "code",
   "execution_count": 51,
   "id": "91e9968a",
   "metadata": {},
   "outputs": [
    {
     "name": "stdout",
     "output_type": "stream",
     "text": [
      "['Nazeer', 15, 'rbfr', True]\n"
     ]
    }
   ],
   "source": [
    "a.pop(0);\n",
    "print(a)"
   ]
  },
  {
   "cell_type": "code",
   "execution_count": 52,
   "id": "b3f01657",
   "metadata": {},
   "outputs": [
    {
     "ename": "IndexError",
     "evalue": "list assignment index out of range",
     "output_type": "error",
     "traceback": [
      "\u001b[1;31m---------------------------------------------------------------------------\u001b[0m",
      "\u001b[1;31mIndexError\u001b[0m                                Traceback (most recent call last)",
      "\u001b[1;32m<ipython-input-52-643a588a8985>\u001b[0m in \u001b[0;36m<module>\u001b[1;34m\u001b[0m\n\u001b[1;32m----> 1\u001b[1;33m \u001b[1;32mdel\u001b[0m \u001b[0ma\u001b[0m\u001b[1;33m[\u001b[0m\u001b[1;36m5\u001b[0m\u001b[1;33m]\u001b[0m\u001b[1;33m\u001b[0m\u001b[1;33m\u001b[0m\u001b[0m\n\u001b[0m",
      "\u001b[1;31mIndexError\u001b[0m: list assignment index out of range"
     ]
    }
   ],
   "source": [
    "del a[5]"
   ]
  },
  {
   "cell_type": "code",
   "execution_count": 53,
   "id": "c0094c6e",
   "metadata": {},
   "outputs": [
    {
     "ename": "SyntaxError",
     "evalue": "invalid syntax (<ipython-input-53-45005514ca8b>, line 2)",
     "output_type": "error",
     "traceback": [
      "\u001b[1;36m  File \u001b[1;32m\"<ipython-input-53-45005514ca8b>\"\u001b[1;36m, line \u001b[1;32m2\u001b[0m\n\u001b[1;33m    if x = 1:\u001b[0m\n\u001b[1;37m         ^\u001b[0m\n\u001b[1;31mSyntaxError\u001b[0m\u001b[1;31m:\u001b[0m invalid syntax\n"
     ]
    }
   ],
   "source": [
    "x = 1;\n",
    "if x = 1:\n",
    "    print(\"dfsf\");\n",
    "    \n"
   ]
  },
  {
   "cell_type": "code",
   "execution_count": null,
   "id": "924099fc",
   "metadata": {},
   "outputs": [],
   "source": []
  }
 ],
 "metadata": {
  "kernelspec": {
   "display_name": "Python 3",
   "language": "python",
   "name": "python3"
  },
  "language_info": {
   "codemirror_mode": {
    "name": "ipython",
    "version": 3
   },
   "file_extension": ".py",
   "mimetype": "text/x-python",
   "name": "python",
   "nbconvert_exporter": "python",
   "pygments_lexer": "ipython3",
   "version": "3.8.8"
  }
 },
 "nbformat": 4,
 "nbformat_minor": 5
}
