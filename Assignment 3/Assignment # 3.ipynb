{
 "cells": [
  {
   "cell_type": "code",
   "execution_count": 2,
   "id": "a24e207d",
   "metadata": {},
   "outputs": [
    {
     "name": "stdout",
     "output_type": "stream",
     "text": [
      "Twinkle, twinkle, little star,\n",
      "\tHow I wonder what you are!\n",
      "\t\tUp above the world so high,\n",
      "\t\tLike a diamond in the sky.\n",
      "Twinkle, twinkle, little star,\n",
      "\tHow I wonder what you are\n"
     ]
    }
   ],
   "source": [
    "#1. Write a Python program to print the following string in a specific format.\n",
    "\n",
    "print(\"Twinkle, twinkle, little star,\\n\\tHow I wonder what you are!\\n\\t\\tUp above the world so high,\\n\\t\\tLike a diamond in the sky.\\nTwinkle, twinkle, little star,\\n\\tHow I wonder what you are\");"
   ]
  },
  {
   "cell_type": "code",
   "execution_count": 4,
   "id": "17407cbb",
   "metadata": {},
   "outputs": [
    {
     "name": "stdout",
     "output_type": "stream",
     "text": [
      "3.8.8 (default, Apr 13 2021, 15:08:03) [MSC v.1916 64 bit (AMD64)]\n"
     ]
    }
   ],
   "source": [
    "#2. Write a Python program to get the Python version you are using.\n",
    "\n",
    "import sys\n",
    "print(sys.version);"
   ]
  },
  {
   "cell_type": "code",
   "execution_count": 8,
   "id": "155f2437",
   "metadata": {},
   "outputs": [
    {
     "name": "stdout",
     "output_type": "stream",
     "text": [
      "Current date and time : 2021-10-23 19:55:41.762972\n"
     ]
    }
   ],
   "source": [
    "#3. Write a Python program to display the current date and time.\n",
    "\n",
    "from datetime import datetime\n",
    "\n",
    "print(\"Current date and time :\" , datetime.now());"
   ]
  },
  {
   "cell_type": "code",
   "execution_count": 11,
   "id": "90761081",
   "metadata": {},
   "outputs": [
    {
     "name": "stdout",
     "output_type": "stream",
     "text": [
      "Enter the radius of a circle 5\n",
      "Area of circle =  78.55\n"
     ]
    }
   ],
   "source": [
    "#4. Write a Python program which accepts the radius of a circle from the user and compute the area.\n",
    "\n",
    "radius = float(input(\"Enter the radius of a circle \"));\n",
    "area = 3.142 * radius * radius;\n",
    "\n",
    "print(\"Area of circle = \" , area);"
   ]
  },
  {
   "cell_type": "code",
   "execution_count": 13,
   "id": "ec765214",
   "metadata": {},
   "outputs": [
    {
     "name": "stdout",
     "output_type": "stream",
     "text": [
      "Enter your first name Mussadiq\n",
      "Enter your last name Nazeer\n",
      "Nazeer Mussadiq\n"
     ]
    }
   ],
   "source": [
    "#5. Write a Python program which accepts the user's first and last name and print them in reverse order with a space between them.\n",
    "\n",
    "f_name = input(\"Enter your first name \");\n",
    "l_name = input(\"Enter your last name \");\n",
    "\n",
    "print(l_name + \" \" + f_name);"
   ]
  },
  {
   "cell_type": "code",
   "execution_count": 15,
   "id": "d61e20fa",
   "metadata": {},
   "outputs": [
    {
     "name": "stdout",
     "output_type": "stream",
     "text": [
      "Enter first number 4\n",
      "Enter second number 5.8\n",
      "Sum of the given numbers =  9.8\n"
     ]
    }
   ],
   "source": [
    "#6. Write a python program which takes two inputs from user and print them addition.\n",
    "\n",
    "a = float(input(\"Enter first number \"));\n",
    "b = float(input(\"Enter second number \"));\n",
    "\n",
    "add = a+b;\n",
    "\n",
    "print(\"Sum of the given numbers = \" , add);"
   ]
  },
  {
   "cell_type": "code",
   "execution_count": 17,
   "id": "db9bd1b7",
   "metadata": {},
   "outputs": [
    {
     "name": "stdout",
     "output_type": "stream",
     "text": [
      "Enter English marks : 60\n",
      "Enter Islamiat marks : 70\n",
      "Enter Maths marks : 90\n",
      "Enter Urdu marks : 65\n",
      "Enter Computer marks : 80\n",
      "\n",
      "------------------------------\n",
      "\n",
      "Obtained Marks :  365.0\n",
      "Total Marks : 500\n",
      "Percentage :  73.0\n",
      "Grade : A\n"
     ]
    }
   ],
   "source": [
    "#7. Write a program which takes 5 inputs from user for different subject’s marks, total it and generate mark sheet using grades ?\n",
    "\n",
    "eng = float(input(\"Enter English marks : \"));\n",
    "isl = float(input(\"Enter Islamiat marks : \"));\n",
    "maths = float(input(\"Enter Maths marks : \"));\n",
    "urdu = float(input(\"Enter Urdu marks : \"));\n",
    "comp = float(input(\"Enter Computer marks : \"));\n",
    "\n",
    "total = eng + isl + maths + urdu + comp ;\n",
    "\n",
    "percentage = total * 100 / 500 ;\n",
    "\n",
    "print(\"\\n------------------------------\\n\");\n",
    "print(\"Obtained Marks : \" , total);\n",
    "print(\"Total Marks : 500\");\n",
    "print(\"Percentage : \" , percentage);\n",
    "\n",
    "if percentage>100:         # Incase if user enter marks more than 100 of some subjects\n",
    "    \n",
    "    print(\"Percentage can't be greater than 100. Please enter correct marks\");\n",
    "    \n",
    "elif percentage<0:         # Incase if user enter negative marks of some subjects\n",
    "    \n",
    "    print(\"Percentage can't be negative. Please enter correct marks\");\n",
    "    \n",
    "elif percentage>=80:\n",
    "    print(\"Grade : A+\");\n",
    "    \n",
    "elif percentage>=70:\n",
    "    print(\"Grade : A\");\n",
    "    \n",
    "elif percentage>=60:\n",
    "    print(\"Grade : B\");\n",
    "    \n",
    "elif percentage>=50:\n",
    "    print(\"Grade : C\");\n",
    "    \n",
    "elif percentage>=40:\n",
    "    print(\"Grade : D\");\n",
    "    \n",
    "else:\n",
    "    print(\"Grade : F\")"
   ]
  },
  {
   "cell_type": "code",
   "execution_count": 22,
   "id": "73e6d133",
   "metadata": {},
   "outputs": [
    {
     "name": "stdout",
     "output_type": "stream",
     "text": [
      "Enter a number 8\n",
      "Given number is even\n"
     ]
    }
   ],
   "source": [
    "#8. Write a program which take input from user and identify that the given number is even or odd?\n",
    "\n",
    "num = int(input(\"Enter a number \"));\n",
    "\n",
    "if num%2 == 0:\n",
    "    print(\"Given number is even\");\n",
    "    \n",
    "else:\n",
    "    print(\"Given number is odd\");\n",
    "    "
   ]
  },
  {
   "cell_type": "code",
   "execution_count": 33,
   "id": "830dba93",
   "metadata": {},
   "outputs": [
    {
     "name": "stdout",
     "output_type": "stream",
     "text": [
      "Length of the above list =  5\n"
     ]
    }
   ],
   "source": [
    "#9. Write a program which print the length of the list?\n",
    "\n",
    "array = [\"Hello\" , 25 , True , 3.7 , \"World\"];\n",
    "\n",
    "print(\"Length of the above list = \" , len(array));"
   ]
  },
  {
   "cell_type": "code",
   "execution_count": 14,
   "id": "b064159f",
   "metadata": {},
   "outputs": [
    {
     "name": "stdout",
     "output_type": "stream",
     "text": [
      "Sum of all the numbers in given list = 140.7\n"
     ]
    }
   ],
   "source": [
    "#10. Write a Python program to sum all the numeric items in a list?\n",
    "\n",
    "a = [4 , 0 , -12 , 54 , 6.7 , 25 , 40 , 23];\n",
    "\n",
    "b = 0;\n",
    "sum_ = 0;\n",
    "\n",
    "for b in a:\n",
    "    sum_ += b;\n",
    "    \n",
    "print(\"Sum of all the numbers in given list =\" , sum_);"
   ]
  },
  {
   "cell_type": "code",
   "execution_count": 7,
   "id": "da16f559",
   "metadata": {},
   "outputs": [
    {
     "name": "stdout",
     "output_type": "stream",
     "text": [
      "Largest number in the given list = 54\n"
     ]
    }
   ],
   "source": [
    "#11. Write a Python program to get the largest number from a numeric list.\n",
    "\n",
    "a = [4 , 0 , 12 , 54 , 6 , 25 , 40 , 23];\n",
    "\n",
    "large_num = a[0];\n",
    "num = 0;\n",
    "\n",
    "for num in a:\n",
    "    if num > large_num:\n",
    "        large_num = num;\n",
    "        \n",
    "print(\"Largest number in the given list =\" , large_num);"
   ]
  },
  {
   "cell_type": "code",
   "execution_count": 16,
   "id": "f6dfa62f",
   "metadata": {},
   "outputs": [
    {
     "name": "stdout",
     "output_type": "stream",
     "text": [
      "1\n",
      "1\n",
      "2\n",
      "3\n"
     ]
    }
   ],
   "source": [
    "#12. Take a list, say for example this one: a = [1, 1, 2, 3, 5, 8, 13, 21, 34, 55, 89]\n",
    "#    Write a program that prints out all the elements of the list that are less than 5.\n",
    "\n",
    "a = [1, 1, 2, 3, 5, 8, 13, 21, 34, 55, 89];\n",
    "\n",
    "b=0;\n",
    "\n",
    "for b in a:\n",
    "    if b<5:\n",
    "        print(b);\n"
   ]
  },
  {
   "cell_type": "code",
   "execution_count": null,
   "id": "145ef997",
   "metadata": {},
   "outputs": [],
   "source": []
  }
 ],
 "metadata": {
  "kernelspec": {
   "display_name": "Python 3",
   "language": "python",
   "name": "python3"
  },
  "language_info": {
   "codemirror_mode": {
    "name": "ipython",
    "version": 3
   },
   "file_extension": ".py",
   "mimetype": "text/x-python",
   "name": "python",
   "nbconvert_exporter": "python",
   "pygments_lexer": "ipython3",
   "version": "3.8.8"
  }
 },
 "nbformat": 4,
 "nbformat_minor": 5
}
