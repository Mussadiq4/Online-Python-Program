{
 "cells": [
  {
   "cell_type": "code",
   "execution_count": 18,
   "id": "1e7f3131",
   "metadata": {},
   "outputs": [
    {
     "name": "stdout",
     "output_type": "stream",
     "text": [
      "Grade A\n"
     ]
    }
   ],
   "source": [
    "eng = 90\n",
    "isl = 80\n",
    "maths = 60\n",
    "total = 300\n",
    "\n",
    "percentage = (eng + isl + maths) * 100 / 300\n",
    "\n",
    "if percentage>100:         # Incase if user enter marks more than 100 of each subject\n",
    "    \n",
    "    print(\"Percentage can't be greater than 100. Please enter correct marks\");\n",
    "    \n",
    "elif percentage<0:         # Incase if user enter negative marks of each subject\n",
    "    \n",
    "    print(\"Percentage can't be negative. Please enter correct marks\");\n",
    "    \n",
    "elif percentage>=80:\n",
    "    print(\"Grade A+\");\n",
    "    \n",
    "elif percentage>=70:\n",
    "    print(\"Grade A\");\n",
    "    \n",
    "elif percentage>=60:\n",
    "    print(\"Grade B\");\n",
    "    \n",
    "elif percentage>=50:\n",
    "    print(\"Grade C\");\n",
    "    \n",
    "elif percentage>=40:\n",
    "    print(\"Grade D\");\n",
    "    \n",
    "else:\n",
    "    print(\"Fail\")"
   ]
  },
  {
   "cell_type": "code",
   "execution_count": null,
   "id": "56ad1a4a",
   "metadata": {},
   "outputs": [],
   "source": []
  }
 ],
 "metadata": {
  "kernelspec": {
   "display_name": "Python 3",
   "language": "python",
   "name": "python3"
  },
  "language_info": {
   "codemirror_mode": {
    "name": "ipython",
    "version": 3
   },
   "file_extension": ".py",
   "mimetype": "text/x-python",
   "name": "python",
   "nbconvert_exporter": "python",
   "pygments_lexer": "ipython3",
   "version": "3.8.8"
  }
 },
 "nbformat": 4,
 "nbformat_minor": 5
}
