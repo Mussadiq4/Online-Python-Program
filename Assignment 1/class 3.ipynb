{
 "cells": [
  {
   "cell_type": "code",
   "execution_count": 9,
   "id": "2b2698b6",
   "metadata": {},
   "outputs": [
    {
     "name": "stdout",
     "output_type": "stream",
     "text": [
      "Enter English marks : 68\n",
      "Enter Islamiat marks : 43\n",
      "Enter Maths marks : 65\n",
      "Grade C\n"
     ]
    }
   ],
   "source": [
    "eng = int(input(\"Enter English marks : \"));\n",
    "isl = int(input(\"Enter Islamiat marks : \"));\n",
    "maths = int(input(\"Enter Maths marks : \"));\n",
    "total = 300\n",
    "\n",
    "percentage = (eng + isl + maths) * 100 / 300\n",
    "\n",
    "if percentage>100:         # Incase if user enter marks more than 100 of each subject\n",
    "    \n",
    "    print(\"Percentage can't be greater than 100. Please enter correct marks\");\n",
    "    \n",
    "elif percentage<0:         # Incase if user enter negative marks of each subject\n",
    "    \n",
    "    print(\"Percentage can't be negative. Please enter correct marks\");\n",
    "    \n",
    "elif percentage>=80:\n",
    "    print(\"Grade A+\");\n",
    "    \n",
    "elif percentage>=70:\n",
    "    print(\"Grade A\");\n",
    "    \n",
    "elif percentage>=60:\n",
    "    print(\"Grade B\");\n",
    "    \n",
    "elif percentage>=50:\n",
    "    print(\"Grade C\");\n",
    "    \n",
    "elif percentage>=40:\n",
    "    print(\"Grade D\");\n",
    "    \n",
    "else:\n",
    "    print(\"Fail\")"
   ]
  },
  {
   "cell_type": "code",
   "execution_count": 17,
   "id": "163f9a4e",
   "metadata": {},
   "outputs": [
    {
     "name": "stdout",
     "output_type": "stream",
     "text": [
      "81\n"
     ]
    }
   ],
   "source": [
    "x = 3**4;\n",
    "print(x);"
   ]
  },
  {
   "cell_type": "code",
   "execution_count": 21,
   "id": "6a06f865",
   "metadata": {},
   "outputs": [
    {
     "name": "stdout",
     "output_type": "stream",
     "text": [
      "False\n"
     ]
    }
   ],
   "source": [
    "x = 10\n",
    "y = 12\n",
    "a = 30\n",
    "b = 7\n",
    "\n",
    "if x+y == a-b:\n",
    "    print(True);\n",
    "    \n",
    "else:\n",
    "    print(False);"
   ]
  },
  {
   "cell_type": "code",
   "execution_count": 24,
   "id": "19c97b5c",
   "metadata": {},
   "outputs": [
    {
     "name": "stdout",
     "output_type": "stream",
     "text": [
      "Enter age : 20\n",
      "Enter gender : Male\n",
      "Donot Allow\n"
     ]
    }
   ],
   "source": [
    "age = int(input(\"Enter age : \"));\n",
    "gender = input(\"Enter gender : \");\n",
    "\n",
    "if age>=18 and gender == \"male\":\n",
    "    print(\"Allow\");\n",
    "    \n",
    "else:\n",
    "    print(\"Donot Allow\");\n",
    "    "
   ]
  },
  {
   "cell_type": "code",
   "execution_count": 3,
   "id": "52e351d8",
   "metadata": {},
   "outputs": [
    {
     "name": "stdout",
     "output_type": "stream",
     "text": [
      "['Mussadiq', 'defw', 'ekkbefke', 'def']\n"
     ]
    }
   ],
   "source": [
    "#List\n",
    "\n",
    "name = [\"Mussadiq\",\"defw\",\"ekkbefke\" , \"def\"];\n",
    "print(name);"
   ]
  },
  {
   "cell_type": "code",
   "execution_count": 33,
   "id": "655e8510",
   "metadata": {},
   "outputs": [
    {
     "name": "stdout",
     "output_type": "stream",
     "text": [
      "Mussadiq\n"
     ]
    }
   ],
   "source": [
    "print(name[0]);"
   ]
  },
  {
   "cell_type": "code",
   "execution_count": 30,
   "id": "67546b5a",
   "metadata": {},
   "outputs": [
    {
     "name": "stdout",
     "output_type": "stream",
     "text": [
      "['Mussadiq', 'Nazeer', 'ekkbefke', 'def']\n"
     ]
    }
   ],
   "source": [
    "name[1] = \"Nazeer\";\n",
    "print(name);"
   ]
  },
  {
   "cell_type": "code",
   "execution_count": 34,
   "id": "8ee515ce",
   "metadata": {},
   "outputs": [
    {
     "name": "stdout",
     "output_type": "stream",
     "text": [
      "['Mussadiq', 'Nazeer', 'ekkbefke', 'def', 'ali']\n"
     ]
    }
   ],
   "source": [
    "# add element in list\n",
    "\n",
    "name.append(\"ali\");\n",
    "print(name);"
   ]
  },
  {
   "cell_type": "code",
   "execution_count": 35,
   "id": "f6e8e781",
   "metadata": {},
   "outputs": [
    {
     "name": "stdout",
     "output_type": "stream",
     "text": [
      "['name', 10, True, 3.57]\n"
     ]
    }
   ],
   "source": [
    "arr = [\"name\" , 10 , True , 3.57];\n",
    "print(arr);"
   ]
  },
  {
   "cell_type": "code",
   "execution_count": 36,
   "id": "41e76b08",
   "metadata": {},
   "outputs": [
    {
     "data": {
      "text/plain": [
       "['Mussadiq', 'Nazeer', 'ekkbefke', 'def', 'ali']"
      ]
     },
     "execution_count": 36,
     "metadata": {},
     "output_type": "execute_result"
    }
   ],
   "source": [
    "name"
   ]
  },
  {
   "cell_type": "code",
   "execution_count": 37,
   "id": "f8253c93",
   "metadata": {},
   "outputs": [
    {
     "data": {
      "text/plain": [
       "10"
      ]
     },
     "execution_count": 37,
     "metadata": {},
     "output_type": "execute_result"
    }
   ],
   "source": [
    "x"
   ]
  },
  {
   "cell_type": "code",
   "execution_count": 38,
   "id": "3cc9db7b",
   "metadata": {},
   "outputs": [
    {
     "name": "stdout",
     "output_type": "stream",
     "text": [
      "['Mussadiq', 'Nazeer', 'ekkbefke', 'def', 'ali', 'name', 10, True, 3.57]\n"
     ]
    }
   ],
   "source": [
    "newList = name + arr;\n",
    "print(newList);"
   ]
  },
  {
   "cell_type": "code",
   "execution_count": 39,
   "id": "9a838011",
   "metadata": {},
   "outputs": [
    {
     "data": {
      "text/plain": [
       "['Mussadiq', 'Nazeer', 'ekkbefke', 'def', 'ali']"
      ]
     },
     "execution_count": 39,
     "metadata": {},
     "output_type": "execute_result"
    }
   ],
   "source": [
    "name"
   ]
  },
  {
   "cell_type": "code",
   "execution_count": 40,
   "id": "395afcc7",
   "metadata": {
    "scrolled": true
   },
   "outputs": [
    {
     "data": {
      "text/plain": [
       "['Mussadiq', 'Nazeer', 'I am inserted', 'ekkbefke', 'def', 'ali']"
      ]
     },
     "execution_count": 40,
     "metadata": {},
     "output_type": "execute_result"
    }
   ],
   "source": [
    "# insert element anywhere in list\n",
    "\n",
    "name.insert(2 , \"I am inserted\");\n",
    "name"
   ]
  },
  {
   "cell_type": "code",
   "execution_count": 42,
   "id": "30d24a06",
   "metadata": {},
   "outputs": [
    {
     "data": {
      "text/plain": [
       "['I am inserted', 'ekkbefke', 'def']"
      ]
     },
     "execution_count": 42,
     "metadata": {},
     "output_type": "execute_result"
    }
   ],
   "source": [
    "# copy some elements from one list to another \n",
    "\n",
    "name2 = name[2:5];\n",
    "name2"
   ]
  },
  {
   "cell_type": "code",
   "execution_count": 43,
   "id": "f30205e3",
   "metadata": {},
   "outputs": [
    {
     "data": {
      "text/plain": [
       "['Mussadiq', 'Nazeer', 'I am inserted']"
      ]
     },
     "execution_count": 43,
     "metadata": {},
     "output_type": "execute_result"
    }
   ],
   "source": [
    "name3 = name[:3]   # copy elements from 0 index to 2 index\n",
    "name3"
   ]
  },
  {
   "cell_type": "code",
   "execution_count": 44,
   "id": "3a57372c",
   "metadata": {},
   "outputs": [
    {
     "data": {
      "text/plain": [
       "['I am inserted', 'def']"
      ]
     },
     "execution_count": 44,
     "metadata": {},
     "output_type": "execute_result"
    }
   ],
   "source": [
    "del name2[1];  # deleting element from list by index\n",
    "name2"
   ]
  },
  {
   "cell_type": "code",
   "execution_count": 45,
   "id": "c3143e44",
   "metadata": {},
   "outputs": [
    {
     "data": {
      "text/plain": [
       "['name', 10, True, 3.57]"
      ]
     },
     "execution_count": 45,
     "metadata": {},
     "output_type": "execute_result"
    }
   ],
   "source": [
    "arr"
   ]
  },
  {
   "cell_type": "code",
   "execution_count": 47,
   "id": "2991568a",
   "metadata": {},
   "outputs": [
    {
     "data": {
      "text/plain": [
       "['name', 10, 3.57]"
      ]
     },
     "execution_count": 47,
     "metadata": {},
     "output_type": "execute_result"
    }
   ],
   "source": [
    "arr.remove(True);        # removing element by its value\n",
    "arr"
   ]
  },
  {
   "cell_type": "code",
   "execution_count": 5,
   "id": "7de41cdd",
   "metadata": {},
   "outputs": [
    {
     "ename": "NameError",
     "evalue": "name 'arr' is not defined",
     "output_type": "error",
     "traceback": [
      "\u001b[1;31m---------------------------------------------------------------------------\u001b[0m",
      "\u001b[1;31mNameError\u001b[0m                                 Traceback (most recent call last)",
      "\u001b[1;32m<ipython-input-5-5d0f834f0811>\u001b[0m in \u001b[0;36m<module>\u001b[1;34m\u001b[0m\n\u001b[1;32m----> 1\u001b[1;33m \u001b[0marr\u001b[0m\u001b[1;33m.\u001b[0m\u001b[0mpop\u001b[0m\u001b[1;33m(\u001b[0m\u001b[1;33m)\u001b[0m\u001b[1;33m;\u001b[0m            \u001b[1;31m# removing the last element\u001b[0m\u001b[1;33m\u001b[0m\u001b[1;33m\u001b[0m\u001b[0m\n\u001b[0m\u001b[0;32m      2\u001b[0m \u001b[0marr\u001b[0m\u001b[1;33m\u001b[0m\u001b[1;33m\u001b[0m\u001b[0m\n",
      "\u001b[1;31mNameError\u001b[0m: name 'arr' is not defined"
     ]
    }
   ],
   "source": [
    "arr.pop();            # removing the last element \n",
    "arr"
   ]
  },
  {
   "cell_type": "code",
   "execution_count": null,
   "id": "b577328f",
   "metadata": {},
   "outputs": [],
   "source": []
  }
 ],
 "metadata": {
  "kernelspec": {
   "display_name": "Python 3",
   "language": "python",
   "name": "python3"
  },
  "language_info": {
   "codemirror_mode": {
    "name": "ipython",
    "version": 3
   },
   "file_extension": ".py",
   "mimetype": "text/x-python",
   "name": "python",
   "nbconvert_exporter": "python",
   "pygments_lexer": "ipython3",
   "version": "3.8.8"
  }
 },
 "nbformat": 4,
 "nbformat_minor": 5
}
