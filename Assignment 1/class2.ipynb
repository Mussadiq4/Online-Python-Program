{
 "cells": [
  {
   "cell_type": "code",
   "execution_count": 1,
   "id": "2898e1c1",
   "metadata": {},
   "outputs": [
    {
     "name": "stdout",
     "output_type": "stream",
     "text": [
      "Hello World\n"
     ]
    }
   ],
   "source": [
    "print(\"Hello World\");"
   ]
  },
  {
   "cell_type": "code",
   "execution_count": 20,
   "id": "35a41b5b",
   "metadata": {},
   "outputs": [
    {
     "name": "stdout",
     "output_type": "stream",
     "text": [
      "The sum is 22 fregr\n"
     ]
    }
   ],
   "source": [
    "a = 5;\n",
    "b = 10\n",
    "print(\"The sum is\" , a+b+7 , \"fregr\");"
   ]
  },
  {
   "cell_type": "code",
   "execution_count": 21,
   "id": "0c5197cc",
   "metadata": {},
   "outputs": [
    {
     "name": "stdout",
     "output_type": "stream",
     "text": [
      "Mussadiq Nazeer\n"
     ]
    }
   ],
   "source": [
    "x = \"Mussadiq \";\n",
    "y = \"Nazeer\";\n",
    "z = x+y;\n",
    "print(x+y);"
   ]
  },
  {
   "cell_type": "code",
   "execution_count": 24,
   "id": "716928f0",
   "metadata": {},
   "outputs": [
    {
     "name": "stdout",
     "output_type": "stream",
     "text": [
      "48\n"
     ]
    }
   ],
   "source": [
    "f = \"4\";\n",
    "g = \"8\"    ;\n",
    "h = f+g ;\n",
    "print (h) ;"
   ]
  },
  {
   "cell_type": "code",
   "execution_count": 28,
   "id": "a29f08a9",
   "metadata": {},
   "outputs": [
    {
     "name": "stdout",
     "output_type": "stream",
     "text": [
      "('ddbwrkf', 20, 12)\n"
     ]
    }
   ],
   "source": [
    "a = \"ddbwrkf\";\n",
    "b = 20;\n",
    "c = a,b, 12;\n",
    "print(c);"
   ]
  },
  {
   "cell_type": "code",
   "execution_count": 10,
   "id": "84e480a7",
   "metadata": {},
   "outputs": [
    {
     "name": "stdout",
     "output_type": "stream",
     "text": [
      "8\n"
     ]
    }
   ],
   "source": [
    "x = 8;\n",
    "y = x+7 ;\n",
    "z = y-x+1 ;\n",
    "print(z);"
   ]
  },
  {
   "cell_type": "code",
   "execution_count": 13,
   "id": "a6771143",
   "metadata": {},
   "outputs": [
    {
     "name": "stdout",
     "output_type": "stream",
     "text": [
      "55.0\n"
     ]
    }
   ],
   "source": [
    "a = 12 -4 / 2 + 9 * 5 ;\n",
    "print(a);"
   ]
  },
  {
   "cell_type": "code",
   "execution_count": 14,
   "id": "8611cb93",
   "metadata": {},
   "outputs": [
    {
     "name": "stdout",
     "output_type": "stream",
     "text": [
      "3.6363636363636367\n"
     ]
    }
   ],
   "source": [
    "a = (12 -4) / (2 + 9) * 5 ;\n",
    "print(a);"
   ]
  },
  {
   "cell_type": "code",
   "execution_count": 15,
   "id": "226b0972",
   "metadata": {},
   "outputs": [
    {
     "name": "stdout",
     "output_type": "stream",
     "text": [
      "1\n"
     ]
    }
   ],
   "source": [
    "x = 10;\n",
    "y = x%3;\n",
    "print(y);"
   ]
  },
  {
   "cell_type": "code",
   "execution_count": 16,
   "id": "c4e9e495",
   "metadata": {},
   "outputs": [
    {
     "name": "stdout",
     "output_type": "stream",
     "text": [
      "My name is Mussadiq\n"
     ]
    }
   ],
   "source": [
    "a = \"Mussadiq\";\n",
    "print(\"My name is \" +a);"
   ]
  },
  {
   "cell_type": "code",
   "execution_count": 17,
   "id": "f353e779",
   "metadata": {},
   "outputs": [
    {
     "name": "stdout",
     "output_type": "stream",
     "text": [
      "Allow for ride\n"
     ]
    }
   ],
   "source": [
    "gender = \"male\";\n",
    "if gender == \"male\":\n",
    "    print(\"Allow for ride\");"
   ]
  },
  {
   "cell_type": "code",
   "execution_count": 19,
   "id": "01a49d24",
   "metadata": {},
   "outputs": [
    {
     "name": "stdout",
     "output_type": "stream",
     "text": [
      "Rok lo \n"
     ]
    }
   ],
   "source": [
    "gender = \"female\";\n",
    "if gender == \"male\":\n",
    "    print(\"Allow for ride\");    \n",
    "else:\n",
    "    print(\"Rok lo \");"
   ]
  },
  {
   "cell_type": "code",
   "execution_count": 30,
   "id": "4a1b8969",
   "metadata": {},
   "outputs": [
    {
     "name": "stdout",
     "output_type": "stream",
     "text": [
      "Allow for ride\n",
      "Next line\n"
     ]
    }
   ],
   "source": [
    "gender = \"female\";\n",
    "if gender != \"male\":\n",
    "    print(\"Allow for ride\")\n",
    "    print(\"Next line\")\n",
    "else:\n",
    "    print(\"Rok lo \");"
   ]
  },
  {
   "cell_type": "code",
   "execution_count": 23,
   "id": "2b7b6a6e",
   "metadata": {},
   "outputs": [
    {
     "name": "stdout",
     "output_type": "stream",
     "text": [
      "allow for ride\n"
     ]
    }
   ],
   "source": [
    "age = 14;\n",
    "gender = \"female\" ;\n",
    "\n",
    "if age > 10 or gender == \"male\":\n",
    "    print(\"allow for ride\");\n",
    "    \n",
    "else:\n",
    "    print(\"rok lo\");"
   ]
  },
  {
   "cell_type": "code",
   "execution_count": 37,
   "id": "80fef429",
   "metadata": {},
   "outputs": [
    {
     "name": "stdout",
     "output_type": "stream",
     "text": [
      "Grade A+\n"
     ]
    }
   ],
   "source": [
    "percent = 85;\n",
    "\n",
    "if percent>=80 and percent<=100:\n",
    "    print(\"Grade A+\");\n",
    "    \n",
    "elif percent>=70:\n",
    "    print(\"Grade A\");\n",
    "    \n",
    "else:\n",
    "    print(\"fail\");"
   ]
  },
  {
   "cell_type": "code",
   "execution_count": null,
   "id": "e71b6b3c",
   "metadata": {},
   "outputs": [],
   "source": []
  }
 ],
 "metadata": {
  "kernelspec": {
   "display_name": "Python 3",
   "language": "python",
   "name": "python3"
  },
  "language_info": {
   "codemirror_mode": {
    "name": "ipython",
    "version": 3
   },
   "file_extension": ".py",
   "mimetype": "text/x-python",
   "name": "python",
   "nbconvert_exporter": "python",
   "pygments_lexer": "ipython3",
   "version": "3.8.8"
  }
 },
 "nbformat": 4,
 "nbformat_minor": 5
}
